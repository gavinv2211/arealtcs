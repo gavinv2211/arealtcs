{
 "cells": [
  {
   "cell_type": "code",
   "execution_count": 1,
   "id": "97d44e5d-aecc-4163-b9eb-9400fda43ff5",
   "metadata": {},
   "outputs": [],
   "source": [
    "import boto3\n",
    "import json\n",
    "import pandas as pd\n",
    "from botocore.handlers import disable_signing\n",
    "import os\n",
    "import pyodbc"
   ]
  },
  {
   "cell_type": "code",
   "execution_count": 2,
   "id": "22017abc-1696-422e-9b99-341febf868ce",
   "metadata": {},
   "outputs": [],
   "source": [
    "\n",
    "\n",
    "\n",
    "\n",
    "os.environ['AWS_DEFAULT_REGION'] = 'us-west-2'\n",
    "s3 = boto3.resource('s3')\n",
    "s3.meta.client.meta.events.register('choose-signer.s3.*', disable_signing)\n",
    "\n",
    "s3_dir = \"data_engineering/test_1/\"\n",
    "bucket = \"tests.arealytics.com.au\"\n",
    "\n",
    "bars_file = s3_dir + \"bars.json\"\n",
    "beers_file = s3_dir +  \"beers.json\"\n",
    "visits_file = s3_dir +  \"visit_events.json\"\n",
    "\n",
    "#load & normalize bars into df\n",
    "bars_obj = s3.Object(bucket,bars_file)\n",
    "bars = json.load(bars_obj.get()['Body'])\n",
    "df_bars = pd.json_normalize(bars, record_path=['stock'], meta= [\"barName\", \"address\"])\n",
    "# rename columns\n",
    "df_bars.rename(columns = {'name':'drinkname', 'barName' : 'barname'}, inplace = True)\n",
    "\n",
    "# Load beers into df\n",
    "beers_obj = s3.Object(bucket,beers_file)\n",
    "beers = json.load(beers_obj.get()['Body'])\n",
    "df_beers = pd.json_normalize(beers)\n",
    "# rename columns\n",
    "df_beers.rename(columns = {'name':'drinkname'}, inplace = True)\n",
    "\n",
    "# Load visists into df\n",
    "visits_obj = s3.Object(bucket,visits_file)\n",
    "visits = json.load(visits_obj.get()['Body'])\n",
    "df_visits = pd.json_normalize(visits)\n",
    "# convert drinks to string\n",
    "df_visits['drinks'] = df_visits['drinks'].astype(str)\n"
   ]
  },
  {
   "cell_type": "code",
   "execution_count": 3,
   "id": "8663da18-a844-40f8-a44b-8855b4400f23",
   "metadata": {},
   "outputs": [],
   "source": [
    "## database connection\n",
    "def connect_to_sqldb(server, database, username, password):\n",
    "    \n",
    "    try:\n",
    "    \n",
    "        conn = pyodbc.connect('DRIVER={SQL Server};SERVER='+server+';DATABASE='+database+';UID='+username+';PWD='+ password)\n",
    "    except pyodbc.OperationalError as e:\n",
    "        raise e\n",
    "    else:\n",
    "        print(\"Connected to SQL\")\n",
    "    return conn"
   ]
  },
  {
   "cell_type": "code",
   "execution_count": 4,
   "id": "697d3c6c-2c9e-42f9-96b7-5f7e251d98b9",
   "metadata": {},
   "outputs": [],
   "source": [
    "#create staging tables\n",
    "def create_staging(curr):\n",
    "    \n",
    "    create_staging_schema = (\"\"\"IF NOT EXISTS (SELECT 1 FROM SYS.SCHEMAS WHERE [name] = 'staging')\n",
    "                                begin\n",
    "                                EXEC ('CREATE SCHEMA [staging]')\n",
    "                                end\"\"\")\n",
    "    \n",
    "    create_staging_bars = ( \"\"\"IF OBJECT_ID(N'staging.bars', N'U') IS NOT NULL\n",
    "                                  DROP TABLE staging.bars\n",
    "                                  CREATE TABLE staging.bars(\n",
    "                                  drinkName varchar(255),\n",
    "                                  price varchar(255),\n",
    "                                  barName varchar(255),\n",
    "                                  address varchar(500))\"\"\")\n",
    "    \n",
    "    create_staging_beers = ( \"\"\"IF OBJECT_ID(N'staging.beers', N'U') IS NOT NULL\n",
    "                                   DROP TABLE staging.beers\n",
    "                                   CREATE TABLE staging.beers(\n",
    "                                   drinkName varchar(255),\n",
    "                                   codeBar varchar(255),\n",
    "                                   type varchar(255),\n",
    "                                   alcoholUnits varchar(255))\"\"\")\n",
    "    \n",
    "    create_staging_visits = ( \"\"\"IF OBJECT_ID(N'staging.visits', N'U') IS NOT NULL\n",
    "                                    DROP TABLE staging.visits\n",
    "                                    CREATE TABLE staging.visits(\n",
    "                                    uuid nvarchar(255),\n",
    "                                    barName varchar(255),\n",
    "                                    drinks varchar(255),\n",
    "                                    drinkName varchar(255),\n",
    "                                    happyHour varchar(255),\n",
    "                                    visited varchar(255))\"\"\")\n",
    "    \n",
    "    try:\n",
    "        \n",
    "        curr.execute(create_staging_schema)\n",
    "        curr.execute(create_staging_bars)\n",
    "        curr.execute(create_staging_beers)\n",
    "        curr.execute(create_staging_visits)\n",
    "        \n",
    "    except pyodbc.Error as e:\n",
    "        raise e\n",
    "        \n",
    "    finally:\n",
    "        curr.commit()"
   ]
  },
  {
   "cell_type": "code",
   "execution_count": 5,
   "id": "d1eebba3-38ea-4124-93ba-4b19dd75b32f",
   "metadata": {},
   "outputs": [],
   "source": [
    "# load staging bars\n",
    "def insert_into_staging_bars(curr, drinkname,price,barname,address):\n",
    "    insert_staging_bars = (\"\"\"INSERT INTO staging.bars (drinkName,price,barName,address) \n",
    "            values(?, ?, ?, ?);\"\"\")\n",
    "\n",
    "    insert_row = (drinkname,price,barname,address)\n",
    "    try:\n",
    "        curr.execute(insert_staging_bars, insert_row)\n",
    "    except pyodbc.Error as e:\n",
    "        raise e\n",
    "    finally:\n",
    "        curr.commit()"
   ]
  },
  {
   "cell_type": "code",
   "execution_count": 6,
   "id": "6342e0a9-ee31-4013-97b8-c2c525414766",
   "metadata": {},
   "outputs": [],
   "source": [
    "def append_staging_bars(curr, df):\n",
    "    for index, row in df.iterrows():\n",
    "        insert_into_staging_bars(curr, row[\"drinkname\"],row[\"price\"],row[\"barname\"],row[\"address\"])"
   ]
  },
  {
   "cell_type": "code",
   "execution_count": 7,
   "id": "595f4fd3-4a39-4921-8acf-f6ebe609f286",
   "metadata": {},
   "outputs": [],
   "source": [
    "# load staging beers\n",
    "def insert_into_staging_beers(curr, drinkname, codebar, type, alcoholUnits):\n",
    "    insert_staging_beers = (\"\"\"INSERT INTO staging.beers (drinkName,codeBar,type,alcoholUnits) \n",
    "            values(?, ?, ?, ?);\"\"\")\n",
    "\n",
    "    insert_row = (drinkname, codebar, type, alcoholUnits)\n",
    "    try:\n",
    "        curr.execute(insert_staging_beers, insert_row)\n",
    "    except pyodbc.Error as e:\n",
    "        raise e\n",
    "    finally:\n",
    "        curr.commit()"
   ]
  },
  {
   "cell_type": "code",
   "execution_count": 8,
   "id": "a3724ec6-f33d-4828-a9d3-5cbc624522e2",
   "metadata": {},
   "outputs": [],
   "source": [
    "def append_staging_beers(curr, df):\n",
    "    for index, row in df.iterrows():\n",
    "        insert_into_staging_beers(curr, row[\"drinkname\"],row[\"codebar\"],row[\"type\"],row[\"alcoholUnits\"])"
   ]
  },
  {
   "cell_type": "code",
   "execution_count": 9,
   "id": "08dee353-253c-4236-aa2e-dbfc2b32b59b",
   "metadata": {},
   "outputs": [],
   "source": [
    "# load staging visits\n",
    "def insert_into_staging_visits(curr, uuid, bar_name, drinks, beverage, happy_hour, visited):\n",
    "    insert_staging_visits = (\"\"\"INSERT INTO staging.visits (uuid, barName, drinks, drinkName, happyHour, visited) \n",
    "            values(?, ?, ?, ?, ?, ?);\"\"\")\n",
    "\n",
    "    insert_row = (uuid, bar_name, drinks, beverage, happy_hour, visited)\n",
    "    try:\n",
    "        curr.execute(insert_staging_visits, insert_row)\n",
    "    except pyodbc.Error as e:\n",
    "        raise e\n",
    "    finally:\n",
    "        curr.commit()"
   ]
  },
  {
   "cell_type": "code",
   "execution_count": 10,
   "id": "cd21f437-ef80-4d7a-9ae5-b4d4141dab85",
   "metadata": {},
   "outputs": [],
   "source": [
    "def append_staging_visits(curr, df):\n",
    "    for index, row in df.iterrows():\n",
    "        insert_into_staging_visits(curr, row[\"uuid\"],row[\"bar_name\"],row[\"drinks\"],row[\"beverage\"],row[\"happy_hour\"],row[\"visited\"])"
   ]
  },
  {
   "cell_type": "code",
   "execution_count": 11,
   "id": "5df1f78c-b014-4157-b2bb-b69e2fb46453",
   "metadata": {},
   "outputs": [],
   "source": [
    "def populatemodel(curr, model):\n",
    "    run_model = (f\"Exec {model}\")\n",
    "    \n",
    "    try:\n",
    "        curr.execute(run_model)\n",
    "    except pyodbc.Error as e:\n",
    "        raise e\n",
    "    finally:\n",
    "        curr.commit()"
   ]
  },
  {
   "cell_type": "code",
   "execution_count": 12,
   "id": "3c8f2d42-c8d4-41ad-a81a-29f2ea396925",
   "metadata": {},
   "outputs": [],
   "source": [
    "def run_model(lst):\n",
    "    for model in lst:\n",
    "        populatemodel(curr, model)"
   ]
  },
  {
   "cell_type": "code",
   "execution_count": 13,
   "id": "d33fef3a-9c96-4cef-84dc-ad2208a5a36f",
   "metadata": {},
   "outputs": [
    {
     "name": "stdout",
     "output_type": "stream",
     "text": [
      "Connected to SQL\n"
     ]
    }
   ],
   "source": [
    "### connect to DB\n",
    "server = '<your rds instance>' \n",
    "database = 'arealtcs' \n",
    "username = '<your username>' \n",
    "password = '<your password>'\n",
    "conn = connect_to_sqldb(server, database, username, password)"
   ]
  },
  {
   "cell_type": "code",
   "execution_count": 14,
   "id": "1f7ec7cb-84fe-4e45-acbc-711a4659417b",
   "metadata": {},
   "outputs": [],
   "source": [
    "curr = conn.cursor()"
   ]
  },
  {
   "cell_type": "code",
   "execution_count": 15,
   "id": "d8fb3211-266e-4ce6-8256-9d725ff3b9ad",
   "metadata": {},
   "outputs": [],
   "source": [
    "create_staging(curr)"
   ]
  },
  {
   "cell_type": "code",
   "execution_count": 16,
   "id": "464aa4bf-ad7b-469c-94e1-abb8e5cbdda4",
   "metadata": {},
   "outputs": [],
   "source": [
    "append_staging_bars(curr, df_bars)"
   ]
  },
  {
   "cell_type": "code",
   "execution_count": 17,
   "id": "c09cf513-3625-47e0-ae4a-2e15581a3971",
   "metadata": {},
   "outputs": [],
   "source": [
    "append_staging_beers(curr, df_beers)"
   ]
  },
  {
   "cell_type": "code",
   "execution_count": 18,
   "id": "4d885bb9-cb09-4253-b739-46d0de4ea625",
   "metadata": {},
   "outputs": [],
   "source": [
    "append_staging_visits(curr, df_visits)"
   ]
  },
  {
   "cell_type": "code",
   "execution_count": 19,
   "id": "6b1657ca-1d74-4ecb-b7ac-ce0153c3765d",
   "metadata": {},
   "outputs": [],
   "source": [
    "modellist = [\"model.LoadBars\", \"model.LoadDrinkType\", \"model.LoadDrinks\", \"model.LoadDrinkPrice\", \"model.LoadVisits\"]\n",
    "run_model(modellist)"
   ]
  },
  {
   "cell_type": "code",
   "execution_count": null,
   "id": "e83417ad-19ef-413a-b807-b4be35564803",
   "metadata": {},
   "outputs": [],
   "source": []
  }
 ],
 "metadata": {
  "kernelspec": {
   "display_name": "Python 3 (ipykernel)",
   "language": "python",
   "name": "python3"
  },
  "language_info": {
   "codemirror_mode": {
    "name": "ipython",
    "version": 3
   },
   "file_extension": ".py",
   "mimetype": "text/x-python",
   "name": "python",
   "nbconvert_exporter": "python",
   "pygments_lexer": "ipython3",
   "version": "3.11.0"
  }
 },
 "nbformat": 4,
 "nbformat_minor": 5
}
